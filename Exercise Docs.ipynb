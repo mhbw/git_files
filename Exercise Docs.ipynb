{
 "cells": [
  {
   "cell_type": "markdown",
   "metadata": {},
   "source": [
    "## TMC Exercise\n",
    "\n",
    "This is the scratch paper and quick codebase for the TMC exercise"
   ]
  },
  {
   "cell_type": "code",
   "execution_count": 33,
   "metadata": {},
   "outputs": [
    {
     "data": {
      "text/html": [
       "<div>\n",
       "<style scoped>\n",
       "    .dataframe tbody tr th:only-of-type {\n",
       "        vertical-align: middle;\n",
       "    }\n",
       "\n",
       "    .dataframe tbody tr th {\n",
       "        vertical-align: top;\n",
       "    }\n",
       "\n",
       "    .dataframe thead th {\n",
       "        text-align: right;\n",
       "    }\n",
       "</style>\n",
       "<table border=\"1\" class=\"dataframe\">\n",
       "  <thead>\n",
       "    <tr style=\"text-align: right;\">\n",
       "      <th></th>\n",
       "      <th>Campaign_Name</th>\n",
       "      <th>Campaign_Type</th>\n",
       "      <th>Start_Date</th>\n",
       "      <th>Length</th>\n",
       "      <th>Attendees</th>\n",
       "      <th>Num_Responses</th>\n",
       "      <th>Response_Rate</th>\n",
       "      <th>Strongly_Agree</th>\n",
       "      <th>PoCI_Strongly_Agree</th>\n",
       "      <th>Non_PoCI_Strongly_Agree</th>\n",
       "      <th>Adjunct_Trainer</th>\n",
       "      <th>CampaignID</th>\n",
       "      <th>OwnerID</th>\n",
       "      <th>Trainer</th>\n",
       "      <th>TrainerID</th>\n",
       "      <th>TrainerPoCI</th>\n",
       "      <th>Trainer_Race</th>\n",
       "      <th>Trainer_Gender</th>\n",
       "      <th>Staff_Start_Date</th>\n",
       "    </tr>\n",
       "  </thead>\n",
       "  <tbody>\n",
       "    <tr>\n",
       "      <th>0</th>\n",
       "      <td>2-Day Crash Course April 16-17, 2019 (DC)</td>\n",
       "      <td>Crash Course</td>\n",
       "      <td>4/16/19</td>\n",
       "      <td>Two days</td>\n",
       "      <td>42</td>\n",
       "      <td>33</td>\n",
       "      <td>78.57</td>\n",
       "      <td>69.70</td>\n",
       "      <td>75.0</td>\n",
       "      <td>66.67</td>\n",
       "      <td>Gen</td>\n",
       "      <td>7010G0000013g1Q</td>\n",
       "      <td>003F000001akKO3IAM</td>\n",
       "      <td>Progressive Adjunct</td>\n",
       "      <td>003F000001akKO3IAM</td>\n",
       "      <td>NaN</td>\n",
       "      <td>NaN</td>\n",
       "      <td>NaN</td>\n",
       "      <td>NaN</td>\n",
       "    </tr>\n",
       "    <tr>\n",
       "      <th>1</th>\n",
       "      <td>2-Day Crash Course April 16-17, 2019 (PORT)</td>\n",
       "      <td>Crash Course</td>\n",
       "      <td>4/16/19</td>\n",
       "      <td>Two days</td>\n",
       "      <td>32</td>\n",
       "      <td>28</td>\n",
       "      <td>87.50</td>\n",
       "      <td>71.43</td>\n",
       "      <td>80.0</td>\n",
       "      <td>69.57</td>\n",
       "      <td>Derek</td>\n",
       "      <td>7010G0000013g1V</td>\n",
       "      <td>003F000001akKO3IAM</td>\n",
       "      <td>Progressive Adjunct</td>\n",
       "      <td>003F000001akKO3IAM</td>\n",
       "      <td>NaN</td>\n",
       "      <td>NaN</td>\n",
       "      <td>NaN</td>\n",
       "      <td>NaN</td>\n",
       "    </tr>\n",
       "    <tr>\n",
       "      <th>2</th>\n",
       "      <td>2-Day Crash Course April 2-3, 2019 (CHI)</td>\n",
       "      <td>Crash Course</td>\n",
       "      <td>4/2/19</td>\n",
       "      <td>Two days</td>\n",
       "      <td>23</td>\n",
       "      <td>16</td>\n",
       "      <td>69.57</td>\n",
       "      <td>81.25</td>\n",
       "      <td>80.0</td>\n",
       "      <td>81.82</td>\n",
       "      <td>Gayle</td>\n",
       "      <td>7010G0000013g0S</td>\n",
       "      <td>003F000001akKO3IAM</td>\n",
       "      <td>Progressive Adjunct</td>\n",
       "      <td>003F000001akKO3IAM</td>\n",
       "      <td>NaN</td>\n",
       "      <td>NaN</td>\n",
       "      <td>NaN</td>\n",
       "      <td>NaN</td>\n",
       "    </tr>\n",
       "    <tr>\n",
       "      <th>3</th>\n",
       "      <td>2-Day Crash Course April 23-24, 2019 (DC)</td>\n",
       "      <td>Crash Course</td>\n",
       "      <td>4/23/19</td>\n",
       "      <td>Two days</td>\n",
       "      <td>37</td>\n",
       "      <td>37</td>\n",
       "      <td>100.00</td>\n",
       "      <td>75.68</td>\n",
       "      <td>87.5</td>\n",
       "      <td>66.67</td>\n",
       "      <td>NaN</td>\n",
       "      <td>7012I000001Eatw</td>\n",
       "      <td>003F000002OgaYpIAJ</td>\n",
       "      <td>Janet</td>\n",
       "      <td>003F000002OgaYpIAJ</td>\n",
       "      <td>N</td>\n",
       "      <td>White</td>\n",
       "      <td>F</td>\n",
       "      <td>9/1/16</td>\n",
       "    </tr>\n",
       "    <tr>\n",
       "      <th>4</th>\n",
       "      <td>2-Day Crash Course April 24-25, 2019 (BOS)</td>\n",
       "      <td>Crash Course</td>\n",
       "      <td>4/24/19</td>\n",
       "      <td>Two days</td>\n",
       "      <td>30</td>\n",
       "      <td>21</td>\n",
       "      <td>70.00</td>\n",
       "      <td>61.90</td>\n",
       "      <td>50.0</td>\n",
       "      <td>63.16</td>\n",
       "      <td>Chris</td>\n",
       "      <td>7010G0000013g1a</td>\n",
       "      <td>003F000001akKO3IAM</td>\n",
       "      <td>Progressive Adjunct</td>\n",
       "      <td>003F000001akKO3IAM</td>\n",
       "      <td>NaN</td>\n",
       "      <td>NaN</td>\n",
       "      <td>NaN</td>\n",
       "      <td>NaN</td>\n",
       "    </tr>\n",
       "  </tbody>\n",
       "</table>\n",
       "</div>"
      ],
      "text/plain": [
       "                                 Campaign_Name Campaign_Type Start_Date  \\\n",
       "0    2-Day Crash Course April 16-17, 2019 (DC)  Crash Course    4/16/19   \n",
       "1  2-Day Crash Course April 16-17, 2019 (PORT)  Crash Course    4/16/19   \n",
       "2     2-Day Crash Course April 2-3, 2019 (CHI)  Crash Course     4/2/19   \n",
       "3    2-Day Crash Course April 23-24, 2019 (DC)  Crash Course    4/23/19   \n",
       "4   2-Day Crash Course April 24-25, 2019 (BOS)  Crash Course    4/24/19   \n",
       "\n",
       "     Length  Attendees  Num_Responses  Response_Rate  Strongly_Agree  \\\n",
       "0  Two days         42             33          78.57           69.70   \n",
       "1  Two days         32             28          87.50           71.43   \n",
       "2  Two days         23             16          69.57           81.25   \n",
       "3  Two days         37             37         100.00           75.68   \n",
       "4  Two days         30             21          70.00           61.90   \n",
       "\n",
       "   PoCI_Strongly_Agree  Non_PoCI_Strongly_Agree Adjunct_Trainer  \\\n",
       "0                 75.0                    66.67             Gen   \n",
       "1                 80.0                    69.57           Derek   \n",
       "2                 80.0                    81.82           Gayle   \n",
       "3                 87.5                    66.67             NaN   \n",
       "4                 50.0                    63.16           Chris   \n",
       "\n",
       "        CampaignID             OwnerID              Trainer  \\\n",
       "0  7010G0000013g1Q  003F000001akKO3IAM  Progressive Adjunct   \n",
       "1  7010G0000013g1V  003F000001akKO3IAM  Progressive Adjunct   \n",
       "2  7010G0000013g0S  003F000001akKO3IAM  Progressive Adjunct   \n",
       "3  7012I000001Eatw  003F000002OgaYpIAJ                Janet   \n",
       "4  7010G0000013g1a  003F000001akKO3IAM  Progressive Adjunct   \n",
       "\n",
       "            TrainerID TrainerPoCI Trainer_Race Trainer_Gender Staff_Start_Date  \n",
       "0  003F000001akKO3IAM         NaN          NaN            NaN              NaN  \n",
       "1  003F000001akKO3IAM         NaN          NaN            NaN              NaN  \n",
       "2  003F000001akKO3IAM         NaN          NaN            NaN              NaN  \n",
       "3  003F000002OgaYpIAJ           N        White              F           9/1/16  \n",
       "4  003F000001akKO3IAM         NaN          NaN            NaN              NaN  "
      ]
     },
     "execution_count": 33,
     "metadata": {},
     "output_type": "execute_result"
    }
   ],
   "source": [
    "## import the packages and the flat file\n",
    "\n",
    "import pandas as pd\n",
    "from scipy import stats\n",
    "import matplotlib.pyplot as plt\n",
    "import numpy as np\n",
    "import seaborn as sns\n",
    "import importlib\n",
    "importlib.reload(plt); importlib.reload(sns)\n",
    "np.random.seed(123)\n",
    "\n",
    "\n",
    "## quick glance at the training data\n",
    "training_data = pd.read_csv(\"exercise_data.csv\")\n",
    "training_data.head()"
   ]
  },
  {
   "cell_type": "code",
   "execution_count": 34,
   "metadata": {},
   "outputs": [
    {
     "data": {
      "text/html": [
       "<div>\n",
       "<style scoped>\n",
       "    .dataframe tbody tr th:only-of-type {\n",
       "        vertical-align: middle;\n",
       "    }\n",
       "\n",
       "    .dataframe tbody tr th {\n",
       "        vertical-align: top;\n",
       "    }\n",
       "\n",
       "    .dataframe thead th {\n",
       "        text-align: right;\n",
       "    }\n",
       "</style>\n",
       "<table border=\"1\" class=\"dataframe\">\n",
       "  <thead>\n",
       "    <tr style=\"text-align: right;\">\n",
       "      <th></th>\n",
       "      <th>Campaign_Name</th>\n",
       "      <th>Campaign_Type</th>\n",
       "      <th>Start_Date</th>\n",
       "      <th>Length</th>\n",
       "      <th>Attendees</th>\n",
       "      <th>Num_Responses</th>\n",
       "      <th>Response_Rate</th>\n",
       "      <th>Strongly_Agree</th>\n",
       "      <th>PoCI_Strongly_Agree</th>\n",
       "      <th>Non_PoCI_Strongly_Agree</th>\n",
       "      <th>Adjunct_Trainer</th>\n",
       "      <th>CampaignID</th>\n",
       "      <th>OwnerID</th>\n",
       "      <th>Trainer</th>\n",
       "      <th>TrainerID</th>\n",
       "      <th>TrainerPoCI</th>\n",
       "      <th>Trainer_Race</th>\n",
       "      <th>Trainer_Gender</th>\n",
       "      <th>Staff_Start_Date</th>\n",
       "    </tr>\n",
       "  </thead>\n",
       "  <tbody>\n",
       "    <tr>\n",
       "      <th>0</th>\n",
       "      <td>2-Day Crash Course April 16-17, 2019 (DC)</td>\n",
       "      <td>Crash Course</td>\n",
       "      <td>4/16/19</td>\n",
       "      <td>Two days</td>\n",
       "      <td>42</td>\n",
       "      <td>33</td>\n",
       "      <td>78.57</td>\n",
       "      <td>69.70</td>\n",
       "      <td>75.0</td>\n",
       "      <td>66.67</td>\n",
       "      <td>Gen</td>\n",
       "      <td>7010G0000013g1Q</td>\n",
       "      <td>003F000001akKO3IAM</td>\n",
       "      <td>Progressive Adjunct</td>\n",
       "      <td>003F000001akKO3IAM</td>\n",
       "      <td>NaN</td>\n",
       "      <td>NaN</td>\n",
       "      <td>NaN</td>\n",
       "      <td>NaN</td>\n",
       "    </tr>\n",
       "    <tr>\n",
       "      <th>1</th>\n",
       "      <td>2-Day Crash Course April 16-17, 2019 (PORT)</td>\n",
       "      <td>Crash Course</td>\n",
       "      <td>4/16/19</td>\n",
       "      <td>Two days</td>\n",
       "      <td>32</td>\n",
       "      <td>28</td>\n",
       "      <td>87.50</td>\n",
       "      <td>71.43</td>\n",
       "      <td>80.0</td>\n",
       "      <td>69.57</td>\n",
       "      <td>Derek</td>\n",
       "      <td>7010G0000013g1V</td>\n",
       "      <td>003F000001akKO3IAM</td>\n",
       "      <td>Progressive Adjunct</td>\n",
       "      <td>003F000001akKO3IAM</td>\n",
       "      <td>NaN</td>\n",
       "      <td>NaN</td>\n",
       "      <td>NaN</td>\n",
       "      <td>NaN</td>\n",
       "    </tr>\n",
       "    <tr>\n",
       "      <th>2</th>\n",
       "      <td>2-Day Crash Course April 2-3, 2019 (CHI)</td>\n",
       "      <td>Crash Course</td>\n",
       "      <td>4/2/19</td>\n",
       "      <td>Two days</td>\n",
       "      <td>23</td>\n",
       "      <td>16</td>\n",
       "      <td>69.57</td>\n",
       "      <td>81.25</td>\n",
       "      <td>80.0</td>\n",
       "      <td>81.82</td>\n",
       "      <td>Gayle</td>\n",
       "      <td>7010G0000013g0S</td>\n",
       "      <td>003F000001akKO3IAM</td>\n",
       "      <td>Progressive Adjunct</td>\n",
       "      <td>003F000001akKO3IAM</td>\n",
       "      <td>NaN</td>\n",
       "      <td>NaN</td>\n",
       "      <td>NaN</td>\n",
       "      <td>NaN</td>\n",
       "    </tr>\n",
       "    <tr>\n",
       "      <th>3</th>\n",
       "      <td>2-Day Crash Course April 23-24, 2019 (DC)</td>\n",
       "      <td>Crash Course</td>\n",
       "      <td>4/23/19</td>\n",
       "      <td>Two days</td>\n",
       "      <td>37</td>\n",
       "      <td>37</td>\n",
       "      <td>100.00</td>\n",
       "      <td>75.68</td>\n",
       "      <td>87.5</td>\n",
       "      <td>66.67</td>\n",
       "      <td>NaN</td>\n",
       "      <td>7012I000001Eatw</td>\n",
       "      <td>003F000002OgaYpIAJ</td>\n",
       "      <td>Janet</td>\n",
       "      <td>003F000002OgaYpIAJ</td>\n",
       "      <td>N</td>\n",
       "      <td>White</td>\n",
       "      <td>F</td>\n",
       "      <td>9/1/16</td>\n",
       "    </tr>\n",
       "    <tr>\n",
       "      <th>4</th>\n",
       "      <td>2-Day Crash Course April 24-25, 2019 (BOS)</td>\n",
       "      <td>Crash Course</td>\n",
       "      <td>4/24/19</td>\n",
       "      <td>Two days</td>\n",
       "      <td>30</td>\n",
       "      <td>21</td>\n",
       "      <td>70.00</td>\n",
       "      <td>61.90</td>\n",
       "      <td>50.0</td>\n",
       "      <td>63.16</td>\n",
       "      <td>Chris</td>\n",
       "      <td>7010G0000013g1a</td>\n",
       "      <td>003F000001akKO3IAM</td>\n",
       "      <td>Progressive Adjunct</td>\n",
       "      <td>003F000001akKO3IAM</td>\n",
       "      <td>NaN</td>\n",
       "      <td>NaN</td>\n",
       "      <td>NaN</td>\n",
       "      <td>NaN</td>\n",
       "    </tr>\n",
       "  </tbody>\n",
       "</table>\n",
       "</div>"
      ],
      "text/plain": [
       "                                 Campaign_Name Campaign_Type Start_Date  \\\n",
       "0    2-Day Crash Course April 16-17, 2019 (DC)  Crash Course    4/16/19   \n",
       "1  2-Day Crash Course April 16-17, 2019 (PORT)  Crash Course    4/16/19   \n",
       "2     2-Day Crash Course April 2-3, 2019 (CHI)  Crash Course     4/2/19   \n",
       "3    2-Day Crash Course April 23-24, 2019 (DC)  Crash Course    4/23/19   \n",
       "4   2-Day Crash Course April 24-25, 2019 (BOS)  Crash Course    4/24/19   \n",
       "\n",
       "     Length  Attendees  Num_Responses  Response_Rate  Strongly_Agree  \\\n",
       "0  Two days         42             33          78.57           69.70   \n",
       "1  Two days         32             28          87.50           71.43   \n",
       "2  Two days         23             16          69.57           81.25   \n",
       "3  Two days         37             37         100.00           75.68   \n",
       "4  Two days         30             21          70.00           61.90   \n",
       "\n",
       "   PoCI_Strongly_Agree  Non_PoCI_Strongly_Agree Adjunct_Trainer  \\\n",
       "0                 75.0                    66.67             Gen   \n",
       "1                 80.0                    69.57           Derek   \n",
       "2                 80.0                    81.82           Gayle   \n",
       "3                 87.5                    66.67             NaN   \n",
       "4                 50.0                    63.16           Chris   \n",
       "\n",
       "        CampaignID             OwnerID              Trainer  \\\n",
       "0  7010G0000013g1Q  003F000001akKO3IAM  Progressive Adjunct   \n",
       "1  7010G0000013g1V  003F000001akKO3IAM  Progressive Adjunct   \n",
       "2  7010G0000013g0S  003F000001akKO3IAM  Progressive Adjunct   \n",
       "3  7012I000001Eatw  003F000002OgaYpIAJ                Janet   \n",
       "4  7010G0000013g1a  003F000001akKO3IAM  Progressive Adjunct   \n",
       "\n",
       "            TrainerID TrainerPoCI Trainer_Race Trainer_Gender Staff_Start_Date  \n",
       "0  003F000001akKO3IAM         NaN          NaN            NaN              NaN  \n",
       "1  003F000001akKO3IAM         NaN          NaN            NaN              NaN  \n",
       "2  003F000001akKO3IAM         NaN          NaN            NaN              NaN  \n",
       "3  003F000002OgaYpIAJ           N        White              F           9/1/16  \n",
       "4  003F000001akKO3IAM         NaN          NaN            NaN              NaN  "
      ]
     },
     "execution_count": 34,
     "metadata": {},
     "output_type": "execute_result"
    }
   ],
   "source": [
    "\n",
    "\n",
    "\n",
    "too_high  = training_data[training_data[\"Response_Rate\"]>100].index\n",
    " \n",
    "# Delete these row indexes from dataFrame\n",
    "training_data_rr = training_data.drop(too_high)\n",
    "\n",
    "zero_attendees  = training_data_rr[training_data_rr[\"Response_Rate\"]==0].index\n",
    " \n",
    "training_data_rr = training_data_rr.drop(zero_attendees)\n",
    "\n",
    "\n",
    "\n",
    "training_data_rr.head()"
   ]
  },
  {
   "cell_type": "code",
   "execution_count": 35,
   "metadata": {},
   "outputs": [
    {
     "data": {
      "image/png": "[encoded data removed]",
      "text/plain": [
       "<Figure size 432x288 with 1 Axes>"
      ]
     },
     "metadata": {
      "needs_background": "light"
     },
     "output_type": "display_data"
    }
   ],
   "source": [
    "def ecdf(data):\n",
    "    n = len(data)\n",
    "    x = np.sort(data)\n",
    "    y = np.arange(1, n+1) / n\n",
    "    return x, y\n",
    "\n",
    "# Specify array of percentiles: percentiles\n",
    "percentiles = np.array([2.5, 25, 50, 75, 97.5])\n",
    "\n",
    "# Compute percentiles: ptiles_vers\n",
    "\n",
    "ptiles_pers = np.percentile(training_data_rr.Strongly_Agree, percentiles)\n",
    "\n",
    "x_val, y_val = ecdf(training_data_rr.Strongly_Agree)\n",
    "\n",
    "plt.plot(x_val, y_val,marker='.', linestyle='none')\n",
    "plt.plot(ptiles_pers, percentiles/100, marker='D', color='red',\n",
    "         linestyle='none')\n",
    "\n",
    "plt.xlabel('Over All Strongly Agree Percentage Rate')\n",
    "plt.ylabel('Percentage Under the Curve')\n",
    "plt.savefig('ecdf_agree_1.png', format='png', dpi=600)\n",
    "plt.show()"
   ]
  },
  {
   "cell_type": "code",
   "execution_count": 36,
   "metadata": {},
   "outputs": [
    {
     "data": {
      "text/plain": [
       "array([51.44225, 64.8375 , 72.73   , 80.43   , 92.92425])"
      ]
     },
     "execution_count": 36,
     "metadata": {},
     "output_type": "execute_result"
    }
   ],
   "source": [
    "ptiles_pers"
   ]
  },
  {
   "cell_type": "code",
   "execution_count": 37,
   "metadata": {},
   "outputs": [
    {
     "data": {
      "image/png": "[encoded data removed]",
      "text/plain": [
       "<Figure size 432x288 with 1 Axes>"
      ]
     },
     "metadata": {
      "needs_background": "light"
     },
     "output_type": "display_data"
    }
   ],
   "source": [
    "## ploting out the groups\n",
    "x_val, y_val = ecdf(training_data_rr.Strongly_Agree)\n",
    "pocx_val, pocy_val = ecdf(training_data_rr.PoCI_Strongly_Agree)\n",
    "nonx_val, nony_val = ecdf(training_data_rr.Non_PoCI_Strongly_Agree)\n",
    "\n",
    "plt.plot(x_val, y_val,marker='.', linestyle='none')\n",
    "plt.plot(pocx_val, pocy_val,marker='.', linestyle='none')\n",
    "plt.plot(nonx_val, nony_val,marker='.', linestyle='none')\n",
    "\n",
    "plt.plot(ptiles_pers, percentiles/100, marker='D', color='red',\n",
    "         linestyle='none')\n",
    "\n",
    "plt.xlabel('Over All Strongly Agree Percentage Rate - Broken Out By Group')\n",
    "plt.ylabel('Percentage Under the Curve')\n",
    "plt.legend(['All', \"PoC\", \"White\"],  loc='upper left')\n",
    "plt.savefig('ecdf_agree_error.png', format='png', dpi=600)\n",
    "plt.show()"
   ]
  },
  {
   "cell_type": "code",
   "execution_count": 38,
   "metadata": {},
   "outputs": [
    {
     "data": {
      "image/png": "[encoded data removed]",
      "text/plain": [
       "<Figure size 432x288 with 1 Axes>"
      ]
     },
     "metadata": {
      "needs_background": "light"
     },
     "output_type": "display_data"
    }
   ],
   "source": [
    "## ploting out the groups\n",
    "pocptiles_pers = np.percentile(training_data_rr.PoCI_Strongly_Agree, percentiles)\n",
    "\n",
    "\n",
    "pocx_val, pocy_val = ecdf(training_data_rr.PoCI_Strongly_Agree)\n",
    "\n",
    "#plt.plot(x_val, y_val,marker='.', linestyle='none')\n",
    "plt.plot(pocx_val, pocy_val,marker='.', linestyle='none')\n",
    "#plt.plot(nonx_val, nony_val,marker='.', linestyle='none')\n",
    "\n",
    "plt.plot(pocptiles_pers, percentiles/100, marker='D', color='red',\n",
    "         linestyle='none')\n",
    "\n",
    "plt.xlabel('Over All Strongly Agree Percentage Rate - Broken Out By Group')\n",
    "plt.ylabel('Percentage Under the Curve')\n",
    "#plt.legend('APN',  loc='upper left')\n",
    "plt.savefig('ecdf_justpoc.png', format='png', dpi=600)\n",
    "plt.show()"
   ]
  },
  {
   "cell_type": "code",
   "execution_count": 39,
   "metadata": {},
   "outputs": [
    {
     "data": {
      "image/png": "[encoded data removed]",
      "text/plain": [
       "<Figure size 432x288 with 1 Axes>"
      ]
     },
     "metadata": {
      "needs_background": "light"
     },
     "output_type": "display_data"
    }
   ],
   "source": [
    "## ploting out the groups\n",
    "Non_pocptiles_pers = np.percentile(training_data_rr.Non_PoCI_Strongly_Agree, percentiles)\n",
    "\n",
    "\n",
    "Non_pocx_val, Non_pocy_val = ecdf(training_data_rr.Non_PoCI_Strongly_Agree)\n",
    "\n",
    "#plt.plot(x_val, y_val,marker='.', linestyle='none')\n",
    "plt.plot(Non_pocx_val, Non_pocy_val,marker='.', linestyle='none')\n",
    "#plt.plot(nonx_val, nony_val,marker='.', linestyle='none')\n",
    "\n",
    "plt.plot(Non_pocptiles_pers, percentiles/100, marker='D', color='red',\n",
    "         linestyle='none')\n",
    "\n",
    "plt.xlabel('Over All Strongly Agree Percentage Rate - Broken Out By Group')\n",
    "plt.ylabel('Percentage Under the Curve')\n",
    "#plt.legend('APN',  loc='upper left')\n",
    "plt.savefig('ecdf_Non_poc.png', format='png', dpi=600)\n",
    "plt.show()"
   ]
  },
  {
   "cell_type": "code",
   "execution_count": 40,
   "metadata": {},
   "outputs": [
    {
     "name": "stdout",
     "output_type": "stream",
     "text": [
      "Percentage of People of Color 'Strongly Agree' that they can implement the training tools:  73.45\n",
      "Percentage Non-PoC:  72.21\n"
     ]
    }
   ],
   "source": [
    "print(\"Percentage of People of Color 'Strongly Agree' that they can implement the training tools: \", round(training_data_rr.PoCI_Strongly_Agree.mean(), 2))\n",
    "print(\"Percentage Non-PoC: \", round(training_data_rr.Non_PoCI_Strongly_Agree.mean(), 2))\n",
    "#training_data_rr.PoCI_Strongly_Agree.mean()"
   ]
  },
  {
   "cell_type": "code",
   "execution_count": 41,
   "metadata": {},
   "outputs": [
    {
     "data": {
      "text/plain": [
       "Ttest_indResult(statistic=0.39695651142350663, pvalue=0.6922944917835512)"
      ]
     },
     "execution_count": 41,
     "metadata": {},
     "output_type": "execute_result"
    }
   ],
   "source": [
    " stats.ttest_ind(training_data_rr.PoCI_Strongly_Agree, training_data_rr.Non_PoCI_Strongly_Agree, equal_var = False)"
   ]
  },
  {
   "cell_type": "markdown",
   "metadata": {},
   "source": [
    "With a P-value that high we can't really make any inferences about the data with it. But Let's break it out by trainer racial demographics."
   ]
  },
  {
   "cell_type": "code",
   "execution_count": 42,
   "metadata": {},
   "outputs": [
    {
     "name": "stdout",
     "output_type": "stream",
     "text": [
      "Percentage of People of Color 'Strongly Agree' that they can implement the tools *when the trainer is white*:  69.83\n",
      "Percentage when the trainer is a Person of Color:  74.86\n"
     ]
    }
   ],
   "source": [
    "\n",
    "Trainer_poc  = training_data_rr[training_data_rr[\"TrainerPoCI\"] != \"Y\"].index\n",
    " \n",
    "# Delete these row indexes from dataFrame\n",
    "training_data_poc = training_data_rr.drop(Trainer_poc)\n",
    "\n",
    "Trainer_nonpoc  = training_data_rr[training_data_rr[\"TrainerPoCI\"] != \"N\"].index\n",
    " \n",
    "# Delete these row indexes from dataFrame\n",
    "training_data_npoc = training_data_rr.drop(Trainer_nonpoc)\n",
    "\n",
    "\n",
    "print(\"Percentage of People of Color 'Strongly Agree' that they can implement the tools *when the trainer is white*: \", round(training_data_npoc.PoCI_Strongly_Agree.mean(), 2))\n",
    "print(\"Percentage when the trainer is a Person of Color: \", round(training_data_poc.PoCI_Strongly_Agree.mean(), 2))\n",
    "#training_data_rr.PoCI_Strongly_Agree.mean()\n"
   ]
  },
  {
   "cell_type": "markdown",
   "metadata": {},
   "source": [
    "This is more interesting since it's a 5% difference. Meanwhile the average is less different for white attendees, who feel slightly more than 1% more confident with a white trainer. "
   ]
  },
  {
   "cell_type": "code",
   "execution_count": 43,
   "metadata": {},
   "outputs": [
    {
     "name": "stdout",
     "output_type": "stream",
     "text": [
      "Percentage of white attendees 'Strongly Agree' that they can implement the tools *when the trainer is white*:  74.14\n",
      "Percentage when the trainer is a Person of Color:  72.93\n"
     ]
    }
   ],
   "source": [
    "\n",
    "print(\"Percentage of white attendees 'Strongly Agree' that they can implement the tools *when the trainer is white*: \", round(training_data_npoc.Non_PoCI_Strongly_Agree.mean(), 2))\n",
    "print(\"Percentage when the trainer is a Person of Color: \", round(training_data_poc.Non_PoCI_Strongly_Agree.mean(), 2))\n",
    "#training_data_rr.PoCI_Strongly_Agree.mean()\n",
    "\n"
   ]
  },
  {
   "cell_type": "markdown",
   "metadata": {},
   "source": [
    "Let's run a T-Test for both of these to see if they're significant."
   ]
  },
  {
   "cell_type": "code",
   "execution_count": 44,
   "metadata": {},
   "outputs": [
    {
     "data": {
      "text/plain": [
       "Ttest_indResult(statistic=-0.7701861256300421, pvalue=0.44741858876209206)"
      ]
     },
     "execution_count": 44,
     "metadata": {},
     "output_type": "execute_result"
    }
   ],
   "source": [
    " stats.ttest_ind(training_data_npoc.PoCI_Strongly_Agree, training_data_poc.PoCI_Strongly_Agree)"
   ]
  },
  {
   "cell_type": "code",
   "execution_count": 45,
   "metadata": {},
   "outputs": [
    {
     "data": {
      "text/plain": [
       "Ttest_indResult(statistic=0.2821311107361569, pvalue=0.7798467223091042)"
      ]
     },
     "execution_count": 45,
     "metadata": {},
     "output_type": "execute_result"
    }
   ],
   "source": [
    " stats.ttest_ind(training_data_npoc.Non_PoCI_Strongly_Agree, training_data_poc.Non_PoCI_Strongly_Agree)"
   ]
  },
  {
   "cell_type": "code",
   "execution_count": 46,
   "metadata": {},
   "outputs": [
    {
     "data": {
      "text/plain": [
       "Ttest_indResult(statistic=-0.8147093893352666, pvalue=0.4212608017301601)"
      ]
     },
     "execution_count": 46,
     "metadata": {},
     "output_type": "execute_result"
    }
   ],
   "source": [
    "## just looking at data for the white trainers for both groups\n",
    "stats.ttest_ind(training_data_npoc.PoCI_Strongly_Agree, training_data_npoc.Non_PoCI_Strongly_Agree)"
   ]
  },
  {
   "cell_type": "markdown",
   "metadata": {},
   "source": [
    "Interestingly we again see a low test value and a high p-value, so we can't conclusively reject the null hypothesis, but that doesn't mean we should ignore the outcomes. "
   ]
  },
  {
   "cell_type": "code",
   "execution_count": 47,
   "metadata": {},
   "outputs": [
    {
     "data": {
      "text/plain": [
       "Ttest_indResult(statistic=0.33652353790680983, pvalue=0.7391772174340755)"
      ]
     },
     "execution_count": 47,
     "metadata": {},
     "output_type": "execute_result"
    }
   ],
   "source": [
    " stats.ttest_ind(training_data_poc.PoCI_Strongly_Agree, training_data_poc.Non_PoCI_Strongly_Agree)"
   ]
  },
  {
   "cell_type": "markdown",
   "metadata": {},
   "source": [
    "Let's chart some of the results, for visual snap shots."
   ]
  },
  {
   "cell_type": "code",
   "execution_count": 48,
   "metadata": {},
   "outputs": [
    {
     "name": "stderr",
     "output_type": "stream",
     "text": [
      "/anaconda3/lib/python3.7/site-packages/scipy/stats/stats.py:1713: FutureWarning: Using a non-tuple sequence for multidimensional indexing is deprecated; use `arr[tuple(seq)]` instead of `arr[seq]`. In the future this will be interpreted as an array index, `arr[np.array(seq)]`, which will result either in an error or a different result.\n",
      "  return np.add.reduce(sorted[indexer] * weights, axis=axis) / sumval\n"
     ]
    },
    {
     "data": {
      "image/png": "[encoded data removed]",
      "text/plain": [
       "<Figure size 432x288 with 1 Axes>"
      ]
     },
     "metadata": {
      "needs_background": "light"
     },
     "output_type": "display_data"
    }
   ],
   "source": [
    "\n",
    "sns.distplot(training_data_npoc.PoCI_Strongly_Agree)\n",
    "sns.distplot(training_data_npoc.Non_PoCI_Strongly_Agree)\n",
    "plt.xlabel('Percentage Confidence By Group - White Trainers')\n",
    "plt.legend(['People of Color', \"White\"], loc='upper left')\n",
    "plt.savefig('per_conf_whitetrain.png', format='png', dpi=600)\n",
    "plt.show()\n"
   ]
  },
  {
   "cell_type": "code",
   "execution_count": 49,
   "metadata": {},
   "outputs": [
    {
     "data": {
      "text/html": [
       "<div>\n",
       "<style scoped>\n",
       "    .dataframe tbody tr th:only-of-type {\n",
       "        vertical-align: middle;\n",
       "    }\n",
       "\n",
       "    .dataframe tbody tr th {\n",
       "        vertical-align: top;\n",
       "    }\n",
       "\n",
       "    .dataframe thead th {\n",
       "        text-align: right;\n",
       "    }\n",
       "</style>\n",
       "<table border=\"1\" class=\"dataframe\">\n",
       "  <thead>\n",
       "    <tr style=\"text-align: right;\">\n",
       "      <th></th>\n",
       "      <th>Campaign_Name</th>\n",
       "      <th>Campaign_Type</th>\n",
       "      <th>Start_Date</th>\n",
       "      <th>Length</th>\n",
       "      <th>Attendees</th>\n",
       "      <th>Num_Responses</th>\n",
       "      <th>Response_Rate</th>\n",
       "      <th>Strongly_Agree</th>\n",
       "      <th>PoCI_Strongly_Agree</th>\n",
       "      <th>Non_PoCI_Strongly_Agree</th>\n",
       "      <th>Adjunct_Trainer</th>\n",
       "      <th>CampaignID</th>\n",
       "      <th>OwnerID</th>\n",
       "      <th>Trainer</th>\n",
       "      <th>TrainerID</th>\n",
       "      <th>TrainerPoCI</th>\n",
       "      <th>Trainer_Race</th>\n",
       "      <th>Trainer_Gender</th>\n",
       "      <th>Staff_Start_Date</th>\n",
       "    </tr>\n",
       "  </thead>\n",
       "  <tbody>\n",
       "    <tr>\n",
       "      <th>3</th>\n",
       "      <td>2-Day Crash Course April 23-24, 2019 (DC)</td>\n",
       "      <td>Crash Course</td>\n",
       "      <td>4/23/19</td>\n",
       "      <td>Two days</td>\n",
       "      <td>37</td>\n",
       "      <td>37</td>\n",
       "      <td>100.00</td>\n",
       "      <td>75.68</td>\n",
       "      <td>87.50</td>\n",
       "      <td>66.67</td>\n",
       "      <td>NaN</td>\n",
       "      <td>7012I000001Eatw</td>\n",
       "      <td>003F000002OgaYpIAJ</td>\n",
       "      <td>Janet</td>\n",
       "      <td>003F000002OgaYpIAJ</td>\n",
       "      <td>N</td>\n",
       "      <td>White</td>\n",
       "      <td>F</td>\n",
       "      <td>9/1/16</td>\n",
       "    </tr>\n",
       "    <tr>\n",
       "      <th>7</th>\n",
       "      <td>2-Day Crash Course April 29-30, 2019 (NYC)</td>\n",
       "      <td>Crash Course</td>\n",
       "      <td>4/29/19</td>\n",
       "      <td>Two days</td>\n",
       "      <td>24</td>\n",
       "      <td>19</td>\n",
       "      <td>79.17</td>\n",
       "      <td>63.16</td>\n",
       "      <td>83.33</td>\n",
       "      <td>53.85</td>\n",
       "      <td>NaN</td>\n",
       "      <td>7010G0000013g1z</td>\n",
       "      <td>003F000001zkPOTIAM</td>\n",
       "      <td>Michael</td>\n",
       "      <td>003F000001zkPOTIAM</td>\n",
       "      <td>N</td>\n",
       "      <td>White</td>\n",
       "      <td>M</td>\n",
       "      <td>1/1/15</td>\n",
       "    </tr>\n",
       "    <tr>\n",
       "      <th>9</th>\n",
       "      <td>2-Day Crash Course April 3-4, 2019 (DC)</td>\n",
       "      <td>Crash Course</td>\n",
       "      <td>4/3/19</td>\n",
       "      <td>Two days</td>\n",
       "      <td>40</td>\n",
       "      <td>19</td>\n",
       "      <td>47.50</td>\n",
       "      <td>94.74</td>\n",
       "      <td>100.00</td>\n",
       "      <td>93.33</td>\n",
       "      <td>NaN</td>\n",
       "      <td>7012I000001EYpT</td>\n",
       "      <td>0030D00002UPHqteBR</td>\n",
       "      <td>Vicky</td>\n",
       "      <td>0030D00002UPHqteBR</td>\n",
       "      <td>N</td>\n",
       "      <td>White</td>\n",
       "      <td>F</td>\n",
       "      <td>3/1/11</td>\n",
       "    </tr>\n",
       "    <tr>\n",
       "      <th>10</th>\n",
       "      <td>2-Day Crash Course April 9-10, 2019 (SF)</td>\n",
       "      <td>Crash Course</td>\n",
       "      <td>4/9/19</td>\n",
       "      <td>Two days</td>\n",
       "      <td>25</td>\n",
       "      <td>17</td>\n",
       "      <td>68.00</td>\n",
       "      <td>64.71</td>\n",
       "      <td>60.00</td>\n",
       "      <td>66.67</td>\n",
       "      <td>NaN</td>\n",
       "      <td>7010G0000013g0r</td>\n",
       "      <td>003F000002OgaYpIAJ</td>\n",
       "      <td>Janet</td>\n",
       "      <td>003F000002OgaYpIAJ</td>\n",
       "      <td>N</td>\n",
       "      <td>White</td>\n",
       "      <td>F</td>\n",
       "      <td>9/1/16</td>\n",
       "    </tr>\n",
       "    <tr>\n",
       "      <th>13</th>\n",
       "      <td>2-Day Crash Course February 25-26, 2019 (DC)</td>\n",
       "      <td>Crash Course</td>\n",
       "      <td>2/25/19</td>\n",
       "      <td>Two days</td>\n",
       "      <td>41</td>\n",
       "      <td>35</td>\n",
       "      <td>85.37</td>\n",
       "      <td>62.86</td>\n",
       "      <td>77.78</td>\n",
       "      <td>59.09</td>\n",
       "      <td>NaN</td>\n",
       "      <td>7010G0000013fqS</td>\n",
       "      <td>003F000002OgaYpIAJ</td>\n",
       "      <td>Janet</td>\n",
       "      <td>003F000002OgaYpIAJ</td>\n",
       "      <td>N</td>\n",
       "      <td>White</td>\n",
       "      <td>F</td>\n",
       "      <td>9/1/16</td>\n",
       "    </tr>\n",
       "  </tbody>\n",
       "</table>\n",
       "</div>"
      ],
      "text/plain": [
       "                                   Campaign_Name Campaign_Type Start_Date  \\\n",
       "3      2-Day Crash Course April 23-24, 2019 (DC)  Crash Course    4/23/19   \n",
       "7     2-Day Crash Course April 29-30, 2019 (NYC)  Crash Course    4/29/19   \n",
       "9        2-Day Crash Course April 3-4, 2019 (DC)  Crash Course     4/3/19   \n",
       "10      2-Day Crash Course April 9-10, 2019 (SF)  Crash Course     4/9/19   \n",
       "13  2-Day Crash Course February 25-26, 2019 (DC)  Crash Course    2/25/19   \n",
       "\n",
       "      Length  Attendees  Num_Responses  Response_Rate  Strongly_Agree  \\\n",
       "3   Two days         37             37         100.00           75.68   \n",
       "7   Two days         24             19          79.17           63.16   \n",
       "9   Two days         40             19          47.50           94.74   \n",
       "10  Two days         25             17          68.00           64.71   \n",
       "13  Two days         41             35          85.37           62.86   \n",
       "\n",
       "    PoCI_Strongly_Agree  Non_PoCI_Strongly_Agree Adjunct_Trainer  \\\n",
       "3                 87.50                    66.67             NaN   \n",
       "7                 83.33                    53.85             NaN   \n",
       "9                100.00                    93.33             NaN   \n",
       "10                60.00                    66.67             NaN   \n",
       "13                77.78                    59.09             NaN   \n",
       "\n",
       "         CampaignID             OwnerID  Trainer           TrainerID  \\\n",
       "3   7012I000001Eatw  003F000002OgaYpIAJ    Janet  003F000002OgaYpIAJ   \n",
       "7   7010G0000013g1z  003F000001zkPOTIAM  Michael  003F000001zkPOTIAM   \n",
       "9   7012I000001EYpT  0030D00002UPHqteBR    Vicky  0030D00002UPHqteBR   \n",
       "10  7010G0000013g0r  003F000002OgaYpIAJ    Janet  003F000002OgaYpIAJ   \n",
       "13  7010G0000013fqS  003F000002OgaYpIAJ    Janet  003F000002OgaYpIAJ   \n",
       "\n",
       "   TrainerPoCI Trainer_Race Trainer_Gender Staff_Start_Date  \n",
       "3            N        White              F           9/1/16  \n",
       "7            N        White              M           1/1/15  \n",
       "9            N        White              F           3/1/11  \n",
       "10           N        White              F           9/1/16  \n",
       "13           N        White              F           9/1/16  "
      ]
     },
     "execution_count": 49,
     "metadata": {},
     "output_type": "execute_result"
    }
   ],
   "source": [
    "training_data_npoc.head()"
   ]
  },
  {
   "cell_type": "code",
   "execution_count": 50,
   "metadata": {},
   "outputs": [
    {
     "data": {
      "image/png": "[encoded data removed]",
      "text/plain": [
       "<Figure size 432x288 with 1 Axes>"
      ]
     },
     "metadata": {
      "needs_background": "light"
     },
     "output_type": "display_data"
    }
   ],
   "source": [
    "\n",
    "sns.distplot(training_data_poc.PoCI_Strongly_Agree)\n",
    "sns.distplot(training_data_poc.Non_PoCI_Strongly_Agree)\n",
    "plt.xlabel('Percentage Confidence By Group - PoC Trainers')\n",
    "plt.legend(['People of Color', \"White\"], loc='upper left')\n",
    "plt.savefig('per_conf_poctrain.png', format='png', dpi=600)\n",
    "plt.show()\n",
    "\n"
   ]
  },
  {
   "cell_type": "code",
   "execution_count": 51,
   "metadata": {},
   "outputs": [
    {
     "data": {
      "text/plain": [
       "74.14411764705882"
      ]
     },
     "execution_count": 51,
     "metadata": {},
     "output_type": "execute_result"
    }
   ],
   "source": [
    "training_data_npoc.Non_PoCI_Strongly_Agree.mean()"
   ]
  },
  {
   "cell_type": "code",
   "execution_count": 52,
   "metadata": {},
   "outputs": [
    {
     "data": {
      "image/png": "[encoded data removed]",
      "text/plain": [
       "<Figure size 432x288 with 1 Axes>"
      ]
     },
     "metadata": {
      "needs_background": "light"
     },
     "output_type": "display_data"
    }
   ],
   "source": [
    "\n",
    "sns.distplot(training_data_npoc.PoCI_Strongly_Agree)\n",
    "sns.distplot(training_data_npoc.Non_PoCI_Strongly_Agree)\n",
    "plt.xlabel('Percentage Confidence By Group - White Trainers')\n",
    "plt.legend(['People of Color', \"White\"], loc='upper left')\n",
    "plt.savefig('per_conf_poctrain.png', format='png', dpi=600)\n",
    "plt.show()\n",
    "\n"
   ]
  },
  {
   "cell_type": "code",
   "execution_count": 53,
   "metadata": {},
   "outputs": [
    {
     "data": {
      "image/png": "[encoded data removed]",
      "text/plain": [
       "<Figure size 432x288 with 1 Axes>"
      ]
     },
     "metadata": {
      "needs_background": "light"
     },
     "output_type": "display_data"
    }
   ],
   "source": [
    "\n",
    "sns.distplot(training_data_poc.PoCI_Strongly_Agree)\n",
    "sns.distplot(training_data_npoc.PoCI_Strongly_Agree)\n",
    "plt.xlabel('PoC Confidence - Layered')\n",
    "plt.legend(['PoC Trainer', \"White Trainer\"], loc='upper left')\n",
    "plt.savefig('poc_conf_poctrain.png', format='png', dpi=600)\n",
    "plt.show()\n",
    "\n"
   ]
  },
  {
   "cell_type": "markdown",
   "metadata": {},
   "source": [
    "# Analyzing the trainers who have longevity"
   ]
  },
  {
   "cell_type": "code",
   "execution_count": 63,
   "metadata": {},
   "outputs": [],
   "source": [
    "from datetime import datetime\n",
    "from dateutil.relativedelta import relativedelta\n",
    "\n",
    "two_yrs_ago = datetime.now() - relativedelta(years=2)\n",
    "type(two_yrs_ago)\n",
    "training_data_rr[\"Staff_Start_Date\"] = pd.to_datetime(training_data_rr[\"Staff_Start_Date\"])\n"
   ]
  },
  {
   "cell_type": "code",
   "execution_count": 64,
   "metadata": {},
   "outputs": [],
   "source": [
    "new_staff = training_data_rr[training_data_rr[\"Staff_Start_Date\"]> two_yrs_ago].index\n",
    "old_staff = training_data_rr[training_data_rr[\"Staff_Start_Date\"]<= two_yrs_ago].index\n",
    "\n"
   ]
  },
  {
   "cell_type": "code",
   "execution_count": 65,
   "metadata": {},
   "outputs": [
    {
     "data": {
      "text/html": [
       "<div>\n",
       "<style scoped>\n",
       "    .dataframe tbody tr th:only-of-type {\n",
       "        vertical-align: middle;\n",
       "    }\n",
       "\n",
       "    .dataframe tbody tr th {\n",
       "        vertical-align: top;\n",
       "    }\n",
       "\n",
       "    .dataframe thead th {\n",
       "        text-align: right;\n",
       "    }\n",
       "</style>\n",
       "<table border=\"1\" class=\"dataframe\">\n",
       "  <thead>\n",
       "    <tr style=\"text-align: right;\">\n",
       "      <th></th>\n",
       "      <th>Campaign_Name</th>\n",
       "      <th>Campaign_Type</th>\n",
       "      <th>Start_Date</th>\n",
       "      <th>Length</th>\n",
       "      <th>Attendees</th>\n",
       "      <th>Num_Responses</th>\n",
       "      <th>Response_Rate</th>\n",
       "      <th>Strongly_Agree</th>\n",
       "      <th>PoCI_Strongly_Agree</th>\n",
       "      <th>Non_PoCI_Strongly_Agree</th>\n",
       "      <th>Adjunct_Trainer</th>\n",
       "      <th>CampaignID</th>\n",
       "      <th>OwnerID</th>\n",
       "      <th>Trainer</th>\n",
       "      <th>TrainerID</th>\n",
       "      <th>TrainerPoCI</th>\n",
       "      <th>Trainer_Race</th>\n",
       "      <th>Trainer_Gender</th>\n",
       "      <th>Staff_Start_Date</th>\n",
       "    </tr>\n",
       "  </thead>\n",
       "  <tbody>\n",
       "    <tr>\n",
       "      <th>3</th>\n",
       "      <td>2-Day Crash Course April 23-24, 2019 (DC)</td>\n",
       "      <td>Crash Course</td>\n",
       "      <td>4/23/19</td>\n",
       "      <td>Two days</td>\n",
       "      <td>37</td>\n",
       "      <td>37</td>\n",
       "      <td>100.00</td>\n",
       "      <td>75.68</td>\n",
       "      <td>87.50</td>\n",
       "      <td>66.67</td>\n",
       "      <td>NaN</td>\n",
       "      <td>7012I000001Eatw</td>\n",
       "      <td>003F000002OgaYpIAJ</td>\n",
       "      <td>Janet</td>\n",
       "      <td>003F000002OgaYpIAJ</td>\n",
       "      <td>N</td>\n",
       "      <td>White</td>\n",
       "      <td>F</td>\n",
       "      <td>2016-09-01</td>\n",
       "    </tr>\n",
       "    <tr>\n",
       "      <th>6</th>\n",
       "      <td>2-Day Crash Course April 29-30, 2019 (DC)</td>\n",
       "      <td>Crash Course</td>\n",
       "      <td>4/29/19</td>\n",
       "      <td>Two days</td>\n",
       "      <td>41</td>\n",
       "      <td>34</td>\n",
       "      <td>82.93</td>\n",
       "      <td>64.71</td>\n",
       "      <td>88.89</td>\n",
       "      <td>54.55</td>\n",
       "      <td>NaN</td>\n",
       "      <td>7010G0000013g1k</td>\n",
       "      <td>0030G00002UHbgtQAH</td>\n",
       "      <td>Antonio</td>\n",
       "      <td>0030G00002UHbgtQAH</td>\n",
       "      <td>Y</td>\n",
       "      <td>Latinx</td>\n",
       "      <td>M</td>\n",
       "      <td>2016-11-01</td>\n",
       "    </tr>\n",
       "    <tr>\n",
       "      <th>7</th>\n",
       "      <td>2-Day Crash Course April 29-30, 2019 (NYC)</td>\n",
       "      <td>Crash Course</td>\n",
       "      <td>4/29/19</td>\n",
       "      <td>Two days</td>\n",
       "      <td>24</td>\n",
       "      <td>19</td>\n",
       "      <td>79.17</td>\n",
       "      <td>63.16</td>\n",
       "      <td>83.33</td>\n",
       "      <td>53.85</td>\n",
       "      <td>NaN</td>\n",
       "      <td>7010G0000013g1z</td>\n",
       "      <td>003F000001zkPOTIAM</td>\n",
       "      <td>Michael</td>\n",
       "      <td>003F000001zkPOTIAM</td>\n",
       "      <td>N</td>\n",
       "      <td>White</td>\n",
       "      <td>M</td>\n",
       "      <td>2015-01-01</td>\n",
       "    </tr>\n",
       "    <tr>\n",
       "      <th>9</th>\n",
       "      <td>2-Day Crash Course April 3-4, 2019 (DC)</td>\n",
       "      <td>Crash Course</td>\n",
       "      <td>4/3/19</td>\n",
       "      <td>Two days</td>\n",
       "      <td>40</td>\n",
       "      <td>19</td>\n",
       "      <td>47.50</td>\n",
       "      <td>94.74</td>\n",
       "      <td>100.00</td>\n",
       "      <td>93.33</td>\n",
       "      <td>NaN</td>\n",
       "      <td>7012I000001EYpT</td>\n",
       "      <td>0030D00002UPHqteBR</td>\n",
       "      <td>Vicky</td>\n",
       "      <td>0030D00002UPHqteBR</td>\n",
       "      <td>N</td>\n",
       "      <td>White</td>\n",
       "      <td>F</td>\n",
       "      <td>2011-03-01</td>\n",
       "    </tr>\n",
       "    <tr>\n",
       "      <th>10</th>\n",
       "      <td>2-Day Crash Course April 9-10, 2019 (SF)</td>\n",
       "      <td>Crash Course</td>\n",
       "      <td>4/9/19</td>\n",
       "      <td>Two days</td>\n",
       "      <td>25</td>\n",
       "      <td>17</td>\n",
       "      <td>68.00</td>\n",
       "      <td>64.71</td>\n",
       "      <td>60.00</td>\n",
       "      <td>66.67</td>\n",
       "      <td>NaN</td>\n",
       "      <td>7010G0000013g0r</td>\n",
       "      <td>003F000002OgaYpIAJ</td>\n",
       "      <td>Janet</td>\n",
       "      <td>003F000002OgaYpIAJ</td>\n",
       "      <td>N</td>\n",
       "      <td>White</td>\n",
       "      <td>F</td>\n",
       "      <td>2016-09-01</td>\n",
       "    </tr>\n",
       "  </tbody>\n",
       "</table>\n",
       "</div>"
      ],
      "text/plain": [
       "                                 Campaign_Name Campaign_Type Start_Date  \\\n",
       "3    2-Day Crash Course April 23-24, 2019 (DC)  Crash Course    4/23/19   \n",
       "6    2-Day Crash Course April 29-30, 2019 (DC)  Crash Course    4/29/19   \n",
       "7   2-Day Crash Course April 29-30, 2019 (NYC)  Crash Course    4/29/19   \n",
       "9      2-Day Crash Course April 3-4, 2019 (DC)  Crash Course     4/3/19   \n",
       "10    2-Day Crash Course April 9-10, 2019 (SF)  Crash Course     4/9/19   \n",
       "\n",
       "      Length  Attendees  Num_Responses  Response_Rate  Strongly_Agree  \\\n",
       "3   Two days         37             37         100.00           75.68   \n",
       "6   Two days         41             34          82.93           64.71   \n",
       "7   Two days         24             19          79.17           63.16   \n",
       "9   Two days         40             19          47.50           94.74   \n",
       "10  Two days         25             17          68.00           64.71   \n",
       "\n",
       "    PoCI_Strongly_Agree  Non_PoCI_Strongly_Agree Adjunct_Trainer  \\\n",
       "3                 87.50                    66.67             NaN   \n",
       "6                 88.89                    54.55             NaN   \n",
       "7                 83.33                    53.85             NaN   \n",
       "9                100.00                    93.33             NaN   \n",
       "10                60.00                    66.67             NaN   \n",
       "\n",
       "         CampaignID             OwnerID  Trainer           TrainerID  \\\n",
       "3   7012I000001Eatw  003F000002OgaYpIAJ    Janet  003F000002OgaYpIAJ   \n",
       "6   7010G0000013g1k  0030G00002UHbgtQAH  Antonio  0030G00002UHbgtQAH   \n",
       "7   7010G0000013g1z  003F000001zkPOTIAM  Michael  003F000001zkPOTIAM   \n",
       "9   7012I000001EYpT  0030D00002UPHqteBR    Vicky  0030D00002UPHqteBR   \n",
       "10  7010G0000013g0r  003F000002OgaYpIAJ    Janet  003F000002OgaYpIAJ   \n",
       "\n",
       "   TrainerPoCI Trainer_Race Trainer_Gender Staff_Start_Date  \n",
       "3            N        White              F       2016-09-01  \n",
       "6            Y       Latinx              M       2016-11-01  \n",
       "7            N        White              M       2015-01-01  \n",
       "9            N        White              F       2011-03-01  \n",
       "10           N        White              F       2016-09-01  "
      ]
     },
     "execution_count": 65,
     "metadata": {},
     "output_type": "execute_result"
    }
   ],
   "source": [
    "old_staff_data_rr = training_data_rr.drop(new_staff)\n",
    "old_staff_data_rr.dropna(subset=[\"Staff_Start_Date\"], inplace=True)\n",
    "old_staff_data_rr.head()"
   ]
  },
  {
   "cell_type": "code",
   "execution_count": 66,
   "metadata": {},
   "outputs": [
    {
     "data": {
      "text/html": [
       "<div>\n",
       "<style scoped>\n",
       "    .dataframe tbody tr th:only-of-type {\n",
       "        vertical-align: middle;\n",
       "    }\n",
       "\n",
       "    .dataframe tbody tr th {\n",
       "        vertical-align: top;\n",
       "    }\n",
       "\n",
       "    .dataframe thead th {\n",
       "        text-align: right;\n",
       "    }\n",
       "</style>\n",
       "<table border=\"1\" class=\"dataframe\">\n",
       "  <thead>\n",
       "    <tr style=\"text-align: right;\">\n",
       "      <th></th>\n",
       "      <th>Campaign_Name</th>\n",
       "      <th>Campaign_Type</th>\n",
       "      <th>Start_Date</th>\n",
       "      <th>Length</th>\n",
       "      <th>Attendees</th>\n",
       "      <th>Num_Responses</th>\n",
       "      <th>Response_Rate</th>\n",
       "      <th>Strongly_Agree</th>\n",
       "      <th>PoCI_Strongly_Agree</th>\n",
       "      <th>Non_PoCI_Strongly_Agree</th>\n",
       "      <th>Adjunct_Trainer</th>\n",
       "      <th>CampaignID</th>\n",
       "      <th>OwnerID</th>\n",
       "      <th>Trainer</th>\n",
       "      <th>TrainerID</th>\n",
       "      <th>TrainerPoCI</th>\n",
       "      <th>Trainer_Race</th>\n",
       "      <th>Trainer_Gender</th>\n",
       "      <th>Staff_Start_Date</th>\n",
       "    </tr>\n",
       "  </thead>\n",
       "  <tbody>\n",
       "    <tr>\n",
       "      <th>8</th>\n",
       "      <td>2-Day Crash Course April 29-30, 2019 (SF)</td>\n",
       "      <td>Crash Course</td>\n",
       "      <td>4/29/19</td>\n",
       "      <td>Two days</td>\n",
       "      <td>29</td>\n",
       "      <td>28</td>\n",
       "      <td>96.55</td>\n",
       "      <td>75.00</td>\n",
       "      <td>81.82</td>\n",
       "      <td>68.75</td>\n",
       "      <td>NaN</td>\n",
       "      <td>7012I000001EgHW</td>\n",
       "      <td>0030G00002UPHqtABC</td>\n",
       "      <td>Tahani</td>\n",
       "      <td>0030G00002UPHqtABC</td>\n",
       "      <td>Y</td>\n",
       "      <td>AAPI</td>\n",
       "      <td>F</td>\n",
       "      <td>2018-09-01</td>\n",
       "    </tr>\n",
       "    <tr>\n",
       "      <th>11</th>\n",
       "      <td>2-Day Crash Course February 20-21, 2019 (NYC)</td>\n",
       "      <td>Crash Course</td>\n",
       "      <td>2/20/19</td>\n",
       "      <td>Two days</td>\n",
       "      <td>28</td>\n",
       "      <td>25</td>\n",
       "      <td>89.29</td>\n",
       "      <td>72.00</td>\n",
       "      <td>75.00</td>\n",
       "      <td>69.23</td>\n",
       "      <td>NaN</td>\n",
       "      <td>7010G0000013fpe</td>\n",
       "      <td>003F000002OgaYpIAI</td>\n",
       "      <td>Chidi</td>\n",
       "      <td>003F000002OgaYpIAI</td>\n",
       "      <td>Y</td>\n",
       "      <td>African American</td>\n",
       "      <td>M</td>\n",
       "      <td>2018-07-01</td>\n",
       "    </tr>\n",
       "    <tr>\n",
       "      <th>16</th>\n",
       "      <td>2-Day Crash Course February 28 - March 1, 2019...</td>\n",
       "      <td>Crash Course</td>\n",
       "      <td>2/28/19</td>\n",
       "      <td>Two days</td>\n",
       "      <td>24</td>\n",
       "      <td>21</td>\n",
       "      <td>87.50</td>\n",
       "      <td>61.90</td>\n",
       "      <td>63.64</td>\n",
       "      <td>60.00</td>\n",
       "      <td>NaN</td>\n",
       "      <td>7012I000001J9Hm</td>\n",
       "      <td>003F000002OgaYpIAI</td>\n",
       "      <td>Chidi</td>\n",
       "      <td>003F000002OgaYpIAI</td>\n",
       "      <td>Y</td>\n",
       "      <td>African American</td>\n",
       "      <td>M</td>\n",
       "      <td>2018-07-01</td>\n",
       "    </tr>\n",
       "    <tr>\n",
       "      <th>20</th>\n",
       "      <td>2-Day Crash Course February 5-6, 2019 (NYC)</td>\n",
       "      <td>Crash Course</td>\n",
       "      <td>2/5/19</td>\n",
       "      <td>Two days</td>\n",
       "      <td>28</td>\n",
       "      <td>26</td>\n",
       "      <td>92.86</td>\n",
       "      <td>80.77</td>\n",
       "      <td>42.86</td>\n",
       "      <td>86.67</td>\n",
       "      <td>NaN</td>\n",
       "      <td>7010G0000013fo2</td>\n",
       "      <td>0030D00037UPHqtiUd</td>\n",
       "      <td>Gen</td>\n",
       "      <td>0030D00037UPHqtiUd</td>\n",
       "      <td>Y</td>\n",
       "      <td>African American</td>\n",
       "      <td>F</td>\n",
       "      <td>2019-06-01</td>\n",
       "    </tr>\n",
       "    <tr>\n",
       "      <th>22</th>\n",
       "      <td>2-Day Crash Course July 1-2, 2019 (NYC)</td>\n",
       "      <td>Crash Course</td>\n",
       "      <td>7/1/19</td>\n",
       "      <td>Two days</td>\n",
       "      <td>30</td>\n",
       "      <td>30</td>\n",
       "      <td>100.00</td>\n",
       "      <td>86.67</td>\n",
       "      <td>92.31</td>\n",
       "      <td>81.25</td>\n",
       "      <td>NaN</td>\n",
       "      <td>7012I00000170h3</td>\n",
       "      <td>0030D00037UPHqtiUd</td>\n",
       "      <td>Gen</td>\n",
       "      <td>0030D00037UPHqtiUd</td>\n",
       "      <td>Y</td>\n",
       "      <td>African American</td>\n",
       "      <td>F</td>\n",
       "      <td>2019-06-01</td>\n",
       "    </tr>\n",
       "  </tbody>\n",
       "</table>\n",
       "</div>"
      ],
      "text/plain": [
       "                                        Campaign_Name Campaign_Type  \\\n",
       "8           2-Day Crash Course April 29-30, 2019 (SF)  Crash Course   \n",
       "11      2-Day Crash Course February 20-21, 2019 (NYC)  Crash Course   \n",
       "16  2-Day Crash Course February 28 - March 1, 2019...  Crash Course   \n",
       "20        2-Day Crash Course February 5-6, 2019 (NYC)  Crash Course   \n",
       "22            2-Day Crash Course July 1-2, 2019 (NYC)  Crash Course   \n",
       "\n",
       "   Start_Date    Length  Attendees  Num_Responses  Response_Rate  \\\n",
       "8     4/29/19  Two days         29             28          96.55   \n",
       "11    2/20/19  Two days         28             25          89.29   \n",
       "16    2/28/19  Two days         24             21          87.50   \n",
       "20     2/5/19  Two days         28             26          92.86   \n",
       "22     7/1/19  Two days         30             30         100.00   \n",
       "\n",
       "    Strongly_Agree  PoCI_Strongly_Agree  Non_PoCI_Strongly_Agree  \\\n",
       "8            75.00                81.82                    68.75   \n",
       "11           72.00                75.00                    69.23   \n",
       "16           61.90                63.64                    60.00   \n",
       "20           80.77                42.86                    86.67   \n",
       "22           86.67                92.31                    81.25   \n",
       "\n",
       "   Adjunct_Trainer       CampaignID             OwnerID Trainer  \\\n",
       "8              NaN  7012I000001EgHW  0030G00002UPHqtABC  Tahani   \n",
       "11             NaN  7010G0000013fpe  003F000002OgaYpIAI   Chidi   \n",
       "16             NaN  7012I000001J9Hm  003F000002OgaYpIAI   Chidi   \n",
       "20             NaN  7010G0000013fo2  0030D00037UPHqtiUd     Gen   \n",
       "22             NaN  7012I00000170h3  0030D00037UPHqtiUd     Gen   \n",
       "\n",
       "             TrainerID TrainerPoCI      Trainer_Race Trainer_Gender  \\\n",
       "8   0030G00002UPHqtABC           Y              AAPI              F   \n",
       "11  003F000002OgaYpIAI           Y  African American              M   \n",
       "16  003F000002OgaYpIAI           Y  African American              M   \n",
       "20  0030D00037UPHqtiUd           Y  African American              F   \n",
       "22  0030D00037UPHqtiUd           Y  African American              F   \n",
       "\n",
       "   Staff_Start_Date  \n",
       "8        2018-09-01  \n",
       "11       2018-07-01  \n",
       "16       2018-07-01  \n",
       "20       2019-06-01  \n",
       "22       2019-06-01  "
      ]
     },
     "execution_count": 66,
     "metadata": {},
     "output_type": "execute_result"
    }
   ],
   "source": [
    "new_staff_data_rr = training_data_rr.drop(old_staff)\n",
    "new_staff_data_rr.dropna(subset=[\"Staff_Start_Date\"], inplace=True)\n",
    "new_staff_data_rr.head()"
   ]
  },
  {
   "cell_type": "code",
   "execution_count": 67,
   "metadata": {},
   "outputs": [
    {
     "data": {
      "text/plain": [
       "Ttest_indResult(statistic=-0.1936923308303854, pvalue=0.8475693534555107)"
      ]
     },
     "execution_count": 67,
     "metadata": {},
     "output_type": "execute_result"
    }
   ],
   "source": [
    " stats.ttest_ind(old_staff_data_rr.PoCI_Strongly_Agree, old_staff_data_rr.Non_PoCI_Strongly_Agree)"
   ]
  },
  {
   "cell_type": "code",
   "execution_count": 68,
   "metadata": {},
   "outputs": [
    {
     "name": "stdout",
     "output_type": "stream",
     "text": [
      "71.81388888888888\n",
      "72.81666666666666\n"
     ]
    }
   ],
   "source": [
    "print(old_staff_data_rr.PoCI_Strongly_Agree.mean())\n",
    "print(old_staff_data_rr.Non_PoCI_Strongly_Agree.mean())"
   ]
  },
  {
   "cell_type": "code",
   "execution_count": 69,
   "metadata": {},
   "outputs": [
    {
     "data": {
      "text/plain": [
       "Ttest_indResult(statistic=-0.3642644733204668, pvalue=0.7188502640270877)"
      ]
     },
     "execution_count": 69,
     "metadata": {},
     "output_type": "execute_result"
    }
   ],
   "source": [
    " stats.ttest_ind(new_staff_data_rr.PoCI_Strongly_Agree, new_staff_data_rr.Non_PoCI_Strongly_Agree)"
   ]
  },
  {
   "cell_type": "code",
   "execution_count": 70,
   "metadata": {},
   "outputs": [
    {
     "name": "stdout",
     "output_type": "stream",
     "text": [
      "72.4976923076923\n",
      "74.67846153846155\n"
     ]
    }
   ],
   "source": [
    "print(new_staff_data_rr.PoCI_Strongly_Agree.mean())\n",
    "print(new_staff_data_rr.Non_PoCI_Strongly_Agree.mean())"
   ]
  },
  {
   "cell_type": "code",
   "execution_count": 72,
   "metadata": {},
   "outputs": [
    {
     "data": {
      "image/png": "[encoded data removed]",
      "text/plain": [
       "<Figure size 432x288 with 1 Axes>"
      ]
     },
     "metadata": {
      "needs_background": "light"
     },
     "output_type": "display_data"
    }
   ],
   "source": [
    "\n",
    "sns.distplot(new_staff_data_rr.Strongly_Agree)\n",
    "sns.distplot(old_staff_data_rr.Strongly_Agree)\n",
    "plt.xlabel('Confidence - Layered')\n",
    "plt.legend(['New Trainer', \"Older Trainer\"], loc='upper left')\n",
    "plt.savefig('new_staff_conf_poctrain.png', format='png', dpi=600)\n",
    "plt.show()"
   ]
  },
  {
   "cell_type": "code",
   "execution_count": null,
   "metadata": {},
   "outputs": [],
   "source": []
  },
  {
   "cell_type": "code",
   "execution_count": null,
   "metadata": {},
   "outputs": [],
   "source": []
  }
 ],
 "metadata": {
  "kernelspec": {
   "display_name": "Python 3",
   "language": "python",
   "name": "python3"
  },
  "language_info": {
   "codemirror_mode": {
    "name": "ipython",
    "version": 3
   },
   "file_extension": ".py",
   "mimetype": "text/x-python",
   "name": "python",
   "nbconvert_exporter": "python",
   "pygments_lexer": "ipython3",
   "version": "3.7.1"
  }
 },
 "nbformat": 4,
 "nbformat_minor": 2
}
